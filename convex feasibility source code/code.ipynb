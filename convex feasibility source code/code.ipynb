{
 "cells": [
  {
   "cell_type": "code",
   "execution_count": 1,
   "metadata": {},
   "outputs": [
    {
     "ename": "LoadError",
     "evalue": "ArgumentError: PyPlot not found in path",
     "output_type": "error",
     "traceback": [
      "ArgumentError: PyPlot not found in path",
      ""
     ]
    }
   ],
   "source": [
    "using PyPlot\n",
    "ω=1\n",
    "τ=3\n",
    "iteration=10^4\n",
    "N=10\n",
    "M=N"
   ]
  },
  {
   "cell_type": "code",
   "execution_count": 2,
   "metadata": {},
   "outputs": [
    {
     "data": {
      "text/plain": [
       "errorOmega (generic function with 1 method)"
      ]
     },
     "execution_count": 2,
     "metadata": {},
     "output_type": "execute_result"
    }
   ],
   "source": [
    "# compute, to how big error step with omega size would lead\n",
    "function errorOmega(x, xavr, xopt, omega)\n",
    "    return norm( ((1-omega)*x + omega*xavr) - xopt )\n",
    "end"
   ]
  },
  {
   "cell_type": "code",
   "execution_count": 3,
   "metadata": {},
   "outputs": [
    {
     "data": {
      "text/plain": [
       "getBestOmega (generic function with 1 method)"
      ]
     },
     "execution_count": 3,
     "metadata": {},
     "output_type": "execute_result"
    }
   ],
   "source": [
    "# compute size of the best ω for particular point x\n",
    "# starts wih interval, where to look for ω, splits it into 3 parts, throw away wrong part\n",
    "# suppose, that error is unimodal function\n",
    "function getBestOmega(x, xavr, xopt, lower, upper, accuracy)\n",
    "    while upper-lower>accuracy\n",
    "        middle1=(2*lower+upper)/3\n",
    "        middle2=(lower+2*upper)/3\n",
    "\n",
    "        if errorOmega(x, xavr, xopt, middle1) > errorOmega(x, xavr, xopt, middle2)\n",
    "            lower=middle1\n",
    "        else\n",
    "            upper=middle2\n",
    "        end\n",
    "    end\n",
    "    return (lower+upper)/2\n",
    "end"
   ]
  },
  {
   "cell_type": "code",
   "execution_count": 4,
   "metadata": {},
   "outputs": [
    {
     "data": {
      "text/plain": [
       "setS (generic function with 1 method)"
      ]
     },
     "execution_count": 4,
     "metadata": {},
     "output_type": "execute_result"
    }
   ],
   "source": [
    "# get a random vector of size M+1 with τ ones\n",
    "function setS()\n",
    "    S=zeros(M+1,1)\n",
    "    for i=1:τ\n",
    "        r=rand(1:M+1)\n",
    "        while S[r]==1\n",
    "            r=rand(1:M+1)\n",
    "        end\n",
    "        S[r]=1\n",
    "    end\n",
    "    return S\n",
    "end"
   ]
  },
  {
   "cell_type": "code",
   "execution_count": 5,
   "metadata": {},
   "outputs": [
    {
     "data": {
      "text/plain": [
       "projection (generic function with 1 method)"
      ]
     },
     "execution_count": 5,
     "metadata": {},
     "output_type": "execute_result"
    }
   ],
   "source": [
    "# compute average of projections\n",
    "function projection(A, b, x)\n",
    "    S=setS()\n",
    "    xsum=x*0\n",
    "    for coord=1:M\n",
    "        if S[coord]==1\n",
    "            xsum += x - A[coord,:].*(A[coord,:]'*x - b[coord])/(A[coord,:]⋅A[coord,:])\n",
    "        end\n",
    "    end\n",
    "    if S[M+1]==1\n",
    "        # project on ball\n",
    "        if norm(x)>10\n",
    "            xsum += 10*x/norm(x)\n",
    "        else\n",
    "            xsum += x\n",
    "        end\n",
    "    end\n",
    "    return xsum/τ\n",
    "end"
   ]
  },
  {
   "cell_type": "code",
   "execution_count": 6,
   "metadata": {},
   "outputs": [
    {
     "ename": "LoadError",
     "evalue": "UndefVarError: M not defined",
     "output_type": "error",
     "traceback": [
      "UndefVarError: M not defined",
      ""
     ]
    }
   ],
   "source": [
    "# randomly initialize variables\n",
    "A=randn(M,N)\n",
    "b=randn(M)\n",
    "x0=1000*rand(M)\n",
    "println(\"norm xopt: \", norm(A\\b))\n",
    "println(\"norm x0: \", norm(x0))"
   ]
  },
  {
   "cell_type": "code",
   "execution_count": 7,
   "metadata": {},
   "outputs": [
    {
     "ename": "LoadError",
     "evalue": "UndefVarError: x0 not defined",
     "output_type": "error",
     "traceback": [
      "UndefVarError: x0 not defined",
      ""
     ]
    }
   ],
   "source": [
    "# find projection to measure distances (same algorithm runned 10x longer)\n",
    "xopt=x0\n",
    "for t=1:10*iteration\n",
    "    xproj = projection(A,b,xopt)\n",
    "    xopt = (1-ω)*xopt + ω*xproj\n",
    "end\n",
    "print(\"xopt:\", norm(A*xopt-b))"
   ]
  },
  {
   "cell_type": "code",
   "execution_count": 8,
   "metadata": {},
   "outputs": [
    {
     "ename": "LoadError",
     "evalue": "UndefVarError: iteration not defined",
     "output_type": "error",
     "traceback": [
      "UndefVarError: iteration not defined",
      ""
     ]
    }
   ],
   "source": [
    "# run algorithm and save variables to be plotted\n",
    "dist=zeros(iteration)\n",
    "bestOmega=zeros(iteration)\n",
    "x=x0\n",
    "for t=1:iteration\n",
    "    dist[t] = norm(x-xopt)\n",
    "    xproj = projection(A,b,x)\n",
    "    bestOmega[t] = getBestOmega(x, xproj, xopt, 0, 1000, 1/10^10)\n",
    "    x = (1-ω)*x + ω*xproj # project on ω\n",
    "    # x = (1-bestOmega[t])*x + bestOmega[t]*xproj # project on best omega\n",
    "end"
   ]
  },
  {
   "cell_type": "code",
   "execution_count": 9,
   "metadata": {},
   "outputs": [
    {
     "ename": "LoadError",
     "evalue": "UndefVarError: semilogy not defined",
     "output_type": "error",
     "traceback": [
      "UndefVarError: semilogy not defined",
      ""
     ]
    }
   ],
   "source": [
    "# plot variables\n",
    "semilogy(dist)\n",
    "v = eigvals(A'*A)\n",
    "λmin = minimum(v[v.>10.0^(-13)]) # for us it is not zero, but for comp it is\n",
    "rate = 1 - λmin/sum(v)\n",
    "semilogy(1:iteration,dist[1]*rate.^(1:iteration))\n",
    "scatter(1:iteration,bestOmega, s=0.1, color=\"grey\", alpha=0.5)"
   ]
  },
  {
   "cell_type": "code",
   "execution_count": null,
   "metadata": {},
   "outputs": [],
   "source": []
  }
 ],
 "metadata": {
  "kernelspec": {
   "display_name": "Julia 0.4.5",
   "language": "julia",
   "name": "julia-0.4"
  },
  "language_info": {
   "file_extension": ".jl",
   "mimetype": "application/julia",
   "name": "julia",
   "version": "0.4.5"
  }
 },
 "nbformat": 4,
 "nbformat_minor": 2
}
